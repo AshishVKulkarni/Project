#!/usr/bin/env python
# coding: utf-8

# # Mini Project 1 - Tennis Dataset

# Loading the dataframe along with the packages that we'll use for the analysis.

# In[4]:


import numpy as np  
import pandas as pd
import pprint

#reading data from a csv file
TennisDF = pd.read_csv('TennisData.csv',sep=",") 


# This dataframe contains every match played (ranging from challenger tournaments to grand slams) between 2013 and 2016

# # Pre-requisite information of Dataset

# In[5]:


print("Shape:\n",TennisDF.shape)       #Return a tuple representing the dimensionality of the DataFrame
print("\nSample Dataframe:\n",TennisDF.head()) #Return first 5 rows as sample


# In[6]:


TennisDF.describe()    #additional descriptive statistics 


# In[7]:


TennisDF.info()   #Information about the DataFrame


# Columns 17(W3),18(L3),19(W4),20(L4),21(W5),22(L5) have higher count of null values. Replacing Null values by 0 as a data   pre-processing step.
# Using dataframe.fillna(0) to achieve this

# In[8]:


TennisDF = TennisDF.fillna(0)       #Cleaning TennisDF by filling null values with 0
TennisDF.info()                     #info() to check updated non-null count


# In[9]:


Tournament = TennisDF.Tournament.unique()      #Store unique values under Tournament
print("Unique Tournament Count:",TennisDF.Tournament.nunique())    #Print count of unique values in Tournament
pprint.pprint(Tournament)


# In[10]:


Series = TennisDF.Series.unique()  #Store unique values under Series
print("Unique Series Count:",TennisDF.Series.nunique()) #Print count of unique values in Series
pprint.pprint(Series)


# # Q1. Does expertise on one tennis surface influence win rate on other type of tennis surfaces?

# In[11]:


#Defining method to create a new dataframe by slicing relevant columns

def surface (tenDF, playername, Result):
    
    #grouping original TennisDF with Winner,Surface and counting results by pivoting them to have surface categories as columns
    surface_subset = tenDF.groupby([playername, Result]).count().unstack(level=1)
    
    surface_subset = surface_subset.iloc[:,0:3]       #slicing rows data within length of column
    
    #new DF has label 'ATP' as a level. Removing the level for more formatted structure
    surface_subset = surface_subset.droplevel(level=0, axis=1) 
   
    #filling null values with 0 as few players have not played on all surfaces
    surface_subset = surface_subset.fillna(0)    
    
    return surface_subset


# In[12]:


# Calculating wins for players across surfaces
SurfaceWin_DF = surface(TennisDF, "Winner", "Surface")   #creating a copy df with surface() output for Winner
SurfaceWin_DF.columns = ['Clay_w','Grass_w','Hard_w']    #renaming DF columns specific to win

print(SurfaceWin_DF.head())


# In[13]:


# Calculating loses for players across surfaces
SurfaceLoss_DF = surface(TennisDF, "Loser", "Surface")        #creating a copy df with surface() output for Loser
SurfaceLoss_DF.columns = ['Clay_l','Grass_l','Hard_l']        #renaming DF columns specific to loss

print(SurfaceLoss_DF.head())


# In[14]:


#Index Merging SurfaceWin_DF and SurfaceLoss_DF using left join. 

SurfaceResult_DF = pd.merge(SurfaceWin_DF, SurfaceLoss_DF, left_index=True, right_index=True, how="left")  

print(SurfaceResult_DF.head())


# In[15]:


#Summarizing available columns to infer total wins,losses and total matches played per player

SurfaceResult_DF['Wins'] = SurfaceResult_DF['Clay_w']+SurfaceResult_DF['Grass_w']+SurfaceResult_DF['Hard_w']
SurfaceResult_DF['Losses'] = SurfaceResult_DF['Clay_l']+SurfaceResult_DF['Grass_l']+SurfaceResult_DF['Hard_l']
SurfaceResult_DF['Matches'] = SurfaceResult_DF['Wins']+SurfaceResult_DF['Losses']

print(SurfaceResult_DF.head())


# In[16]:


#To have more accurate insights, filtering out players who have less than 5 wins

Surface_Subset = SurfaceResult_DF[SurfaceResult_DF['Wins'] > 5]

print(Surface_Subset.shape)


# In[17]:


# To answer the question of expertise on one surface and its impact, comparing mean and median values

SurfaceWin = Surface_Subset.loc[:,'Clay_w':'Hard_w']   #Store row values for Surface_Win columns 

SurfaceWin.describe()       #Return statistical inferences


# Describe() gives us the mean wins across 3 surfaces along with the percentile distribution of players.

# In[18]:


print(SurfaceWin.median())   #Return Median of Surface win count


# Mean is sensitive to outliers. Players like Roger Federer, Rafael Nadal will cause skewness in the data due to comparatively higher wins than someone like Albot R. Median is used to eliminate the outliers' impact. Clearly, we have a difference in mean and median across the 3 surfaces. 

# Expertise(Win Rate) on surfaces can be used for correlation between different surfaces

# In[19]:


print(SurfaceWin.corr())    #Return correlation coefficient


# Following is the summarization of this correlation:
#  a. Clay court wins have a much higher influence on Hard court wins as compared to influencing Grass court wins
#  b. Higher wins in Grass Court has higher chance of wins in Hard court
#  c. Expertise in Hard Court allows a player to have higher chance of winning in Grass court and fairly similar in Clay court as well.An example of this claim would be Roger Federer. He has 42 wins on Hard Court, which correlates fairly well to his prowess on other surfaces.

# In[20]:


SurfaceWin.loc['Federer R.','Hard_w']   #Example, Roger Federer wins on Hard Surface


# In[21]:


output = SurfaceWin.corr()


# Although, there is no strong correlation to answer the question, expertise in Hard Court Surface proves to best suited for influencing other surfaces' win-rate

# In[22]:


output.to_csv('Surface_Influence.csv')   #Exporting sliced DF as a csv file


# # Q2. Which Tennis Player is better suited for all surfaces?

# "Better" Tennis player is assumed to have a higher win rate across all surfaces.

# In[180]:


Wins = TennisDF[['Tournament', 'Round', 'Winner']]    #creating sliced DF with specific columns
Wins = Wins[Wins.Round == 'The Final']  #Return only wins in the final i.e Tournament wins


# In[181]:


#Grouping Winners per tournament and counting per player

Tour_Wins = Wins.groupby('Winner')['Tournament'].count()

#Resetting the index, adding old index as a column, and a using new sequential index 
Tour_Wins = Tour_Wins.reset_index()

#sorting Player win counts in descending order
Tour_Wins = Tour_Wins.sort_values(['Tournament'], ascending=False)
Tour_Wins


# In[186]:


Court = TennisDF[['Surface','Winner','Loser']] 
#recreating similar variables as used in Question 1 to not affect the results of Question 1

Surface_win = Court[['Surface', 'Winner']]
Surface_loss = Court[['Surface', 'Loser']]
Surface_win.columns = ['Surface', 'Player']    #Renaming Columns to have uniform name i.e Player instead of Winner & Loser
Surface_loss.columns = ['Surface', 'Player']   


# In[187]:


Surface_win['idx'] = range(1, len(Surface_win) + 1)   #Generate ranged Index for Surface_win DF
Surface_loss['idx'] = range(1, len(Surface_loss) + 1) #Generate ranged Index for Surface_loss DF


# In[303]:


Surface_win = Surface_win.groupby(['Surface', 'Player']).count()   #count player win by surface
Surface_win = Surface_win.reset_index()   #Resetting the index with a new sequential index 
Surface_win.columns = ['Surface', 'Player', 'Wins'] #Adding win counter as column 

Surface_loss = Surface_loss.groupby(['Surface', 'Player']).count() #count player loss by surface
Surface_loss = Surface_loss.reset_index()  #Resetting the index with a new sequential index 
Surface_loss.columns = ['Surface', 'Player', 'Loss'] #Adding loss counter as column


# In[207]:


#Merging win and loss df using player and surface as key
Surface_Combined = pd.merge(Surface_win, Surface_loss, on=['Surface', 'Player']) 

#Calculating Total matches and Percentage Win
Surface_Combined['TotalMatches'] = Surface_Combined['Wins'] + Surface_Combined['Loss']
Surface_Combined['Perc_Win'] = Surface_Combined['Wins'] / Surface_Combined['TotalMatches']*100

#Sorting Players based on Percentage Win in descending order
Surface_Combined.sort_values(by='Perc_Win', ascending=False).head(30)


# In[208]:


print(Surface_Combined.Surface.unique())   #unique surfaces considered


# Now, with wins per surface and win percentage available, finding individual surface wise best player

# In[210]:


#Top 3 Win Percentages on Clay
#Checking for value 'Clay' in combined df and sorting based on Percentage Win 
Clay = Surface_Combined[Surface_Combined.Surface=='Clay'].sort_values(by='Perc_Win', ascending = False).head(3)
Clay


# In[211]:


#Top 3 Win Percentages on Grass
#Checking for value 'Grass' in combined df and sorting based on Percentage Win 
Grass = Surface_Combined[Surface_Combined.Surface=='Grass'].sort_values(by='Perc_Win', ascending = False).head(3)
Grass


# In[212]:


#Top 3 Win Percentages on Hard
#Checking for value 'Hard' in combined df and sorting based on Percentage Win 
Hard = Surface_Combined[Surface_Combined.Surface=='Hard'].sort_values(by='Perc_Win', ascending = False).head(3)
Hard


# It can be infered that Djokovic N. has a better performance by being in top 3 across all the surfaces. To confirm this, ignoring the surface, correlation coefficient can be used. Following is the approach followed:

# In[242]:


#Overall Win percentage irrespective of surface

Overall = TennisDF[['Winner', 'Loser']]    #DF created to store Career wide wins and loss

Overall_w = TennisDF[['Winner']]
Overall_l = TennisDF[['Loser']]
Overall_w.columns = ['Player']
Overall_l.columns = ['Player']

Overall_w['index'] = range(1, len(Overall_w) + 1)  #Generate ranged Index for Overall Win DF
Overall_l['index'] = range(1, len(Overall_l) + 1)  ##Generate ranged Index for Overall Loss DF

Overall_w = Overall_w.groupby('Player').count()   #counting wins per each player
Overall_w = Overall_w.reset_index()
Overall_w.columns = ['Player', 'Wins']      #Updating columns to reflect Player and Win count

Overall_l = Overall_l.groupby('Player').count() #counting loss per each player
Overall_l = Overall_l.reset_index()
Overall_l.columns = ['Player', 'Loss']    #Updating columns to reflect Player and loss count

#Merging wins and loss per player
Overall = pd.merge(Overall_w, Overall_l, on='Player')

#Calculating Percentage Win and total matches
Overall['total_matches'] = Overall['Wins'] + Overall['Loss']
Overall['perc_win'] = round(Overall['Wins'] / Overall['total_matches'],4)*100

#Sorting Overall Percentage wins,irrespective of surface, in descending order
Overall = Overall.sort_values(by='perc_win', ascending=False).head(20)
Overall

# Warning is thrown as the indexing is attempted on a copy of sliced Dataframe


# In[266]:


#Selecting top 3 Players for further analysis
Overall_Top3 = Surface_Combined[(Surface_Combined.Player.isin(['Djokovic N.','Nadal R.','Wawrinka S.']))]
Overall_Top3


# In[298]:


#Summarizing surface wise percentage wins per player
Arranged_Top3 = Overall_Top3.sort_values(['Player'], ascending=False)
Arranged_Top3


# In[301]:


#Using Surface wise percentage wins per player to calculate mean

Player_Mean = Overall_Top3.sum(axis = 1)/3   #using axis to summarize across the rows

print(Player_Mean)


# Based on the mean win rate across all the surfaces, Novak Djokovic is better suited for all surfaces.

# In[300]:


Overall_Top3.to_csv("Overall_Top3.csv")

